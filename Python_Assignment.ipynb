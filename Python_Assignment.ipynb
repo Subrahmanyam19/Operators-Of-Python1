{
 "cells": [
  {
   "cell_type": "code",
   "execution_count": 3,
   "metadata": {},
   "outputs": [
    {
     "name": "stdout",
     "output_type": "stream",
     "text": [
      "Arnoc Innovative Technology\n",
      "Last Three Characters of input_str:- ogy\n"
     ]
    }
   ],
   "source": [
    "#Given a string, write a Python program to extract the last three characters from the string and print them.\n",
    "input_str=\"Arnoc Innovative Technology\"\n",
    "print(input_str)\n",
    "print(\"Last Three Characters of input_str:-\",input_str[-3 : ])"
   ]
  },
  {
   "cell_type": "code",
   "execution_count": 4,
   "metadata": {},
   "outputs": [
    {
     "data": {
      "text/plain": [
       "'LaLLi'"
      ]
     },
     "execution_count": 4,
     "metadata": {},
     "output_type": "execute_result"
    }
   ],
   "source": [
    "#You are given a string. Write a Python program to replace all occurrences of the character 'l' (lowercase L) with 'L' (uppercase L) and print the modified string.\n",
    "input_str=\"lalli\"\n",
    "input_str.replace('l','L')"
   ]
  },
  {
   "cell_type": "code",
   "execution_count": 6,
   "metadata": {},
   "outputs": [
    {
     "name": "stdout",
     "output_type": "stream",
     "text": [
      "26 true\n"
     ]
    }
   ],
   "source": [
    "#Write a Python program to check if a given integer is even. If the integer is even, print True; otherwise, print False.\n",
    "num=int(input(\"Enter a number:\"))\n",
    "#if the number is even \n",
    "if num%2==0:\n",
    "  print(num,'true')\n",
    "#if the num is not even\n",
    "else:\n",
    "  print(num,'false')\n"
   ]
  },
  {
   "cell_type": "code",
   "execution_count": 11,
   "metadata": {},
   "outputs": [
    {
     "name": "stdout",
     "output_type": "stream",
     "text": [
      "15 true\n"
     ]
    }
   ],
   "source": [
    "#Write a Python program to check if a given integer is divisible by both 3 and 5. If the integer is divisible by both, print True; otherwise, print False.\n",
    "num=int(input(\"Enter a number:\"))\n",
    "#if the number is divisible by both 3 and 5\n",
    "if num%3==0 and num%5==0:\n",
    "    print(num,\"true\")\n",
    "#if the number is not divisible by both 3 and 5\n",
    "else:\n",
    "  print(num,\"false\")"
   ]
  },
  {
   "cell_type": "code",
   "execution_count": 20,
   "metadata": {},
   "outputs": [
    {
     "name": "stdout",
     "output_type": "stream",
     "text": [
      "Orange is a fruit, Banana is a yellow color, Banana is having peel\n"
     ]
    }
   ],
   "source": [
    "#Given a string containing multiple occurrences of the word 'banana', write a Python program to replace only the first occurrence of 'banana' with 'orange' and print the modified string.\n",
    "input_str=\"Banana is a fruit, Banana is a yellow color, Banana is having peel\"\n",
    "modified_str=input_str.replace(\"Banana\",\"Orange\",1)\n",
    "print(modified_str)"
   ]
  },
  {
   "cell_type": "code",
   "execution_count": 32,
   "metadata": {},
   "outputs": [
    {
     "name": "stdout",
     "output_type": "stream",
     "text": [
      "Euclidean distance between the two points: 2.8284271247461903\n"
     ]
    }
   ],
   "source": [
    "#Given two tuples representing coordinates (x, y) of two points, write a Python program to calculate the Euclidean distance between them.\n",
    "import math\n",
    "\n",
    "def euclidean_distance_Of_two_points(point_1, point_2):\n",
    "    p1, q1 = point_1\n",
    "    p2, q2 = point_2\n",
    "    distance = math.sqrt((p2 - p1)**2 + (q2 - q1)**2)\n",
    "    return distance\n",
    "    \n",
    "\n",
    "point_1 = (float(input(\"Enter p coordinate of first point: \")), float(input(\"Enter q coordinate of first point: \")))\n",
    "point_2 = (float(input(\"Enter p coordinate of second point: \")), float(input(\"Enter q coordinate of second point: \")))\n",
    "\n",
    "distance = euclidean_distance_Of_two_points(point_1, point_2)\n",
    "print(\"Euclidean distance between the two points:\", distance)"
   ]
  },
  {
   "cell_type": "code",
   "execution_count": 34,
   "metadata": {},
   "outputs": [
    {
     "name": "stdout",
     "output_type": "stream",
     "text": [
      "{'orange'}\n"
     ]
    }
   ],
   "source": [
    "#Write a Python program that takes two sets as input and returns a new set containing only the elements that are common to both sets.\n",
    "input_set_1={\"apple\",\"banana\",\"orange\"}\n",
    "input_set_2={\"papaya\",\"orange\",\"grapes\"}\n",
    "modified_set_3=input_set_1.intersection(input_set_2)\n",
    "print(modified_set_3)"
   ]
  }
 ],
 "metadata": {
  "kernelspec": {
   "display_name": "Python 3",
   "language": "python",
   "name": "python3"
  },
  "language_info": {
   "codemirror_mode": {
    "name": "ipython",
    "version": 3
   },
   "file_extension": ".py",
   "mimetype": "text/x-python",
   "name": "python",
   "nbconvert_exporter": "python",
   "pygments_lexer": "ipython3",
   "version": "3.12.2"
  }
 },
 "nbformat": 4,
 "nbformat_minor": 2
}
