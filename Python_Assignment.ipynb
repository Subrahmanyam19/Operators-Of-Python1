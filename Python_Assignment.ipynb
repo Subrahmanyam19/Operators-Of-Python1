{
 "cells": [
  {
   "cell_type": "code",
   "execution_count": 3,
   "metadata": {},
   "outputs": [
    {
     "name": "stdout",
     "output_type": "stream",
     "text": [
      "Arnoc Innovative Technology\n",
      "Last Three Characters of input_str:- ogy\n"
     ]
    }
   ],
   "source": [
    "#Given a string, write a Python program to extract the last three characters from the string and print them.\n",
    "input_str=\"Arnoc Innovative Technology\"\n",
    "print(input_str)\n",
    "print(\"Last Three Characters of input_str:-\",input_str[-3 : ])"
   ]
  },
  {
   "cell_type": "code",
   "execution_count": 4,
   "metadata": {},
   "outputs": [
    {
     "data": {
      "text/plain": [
       "'LaLLi'"
      ]
     },
     "execution_count": 4,
     "metadata": {},
     "output_type": "execute_result"
    }
   ],
   "source": [
    "#You are given a string. Write a Python program to replace all occurrences of the character 'l' (lowercase L) with 'L' (uppercase L) and print the modified string.\n",
    "input_str=\"lalli\"\n",
    "input_str.replace('l','L')"
   ]
  },
  {
   "cell_type": "code",
   "execution_count": 6,
   "metadata": {},
   "outputs": [
    {
     "name": "stdout",
     "output_type": "stream",
     "text": [
      "26 true\n"
     ]
    }
   ],
   "source": [
    "#Write a Python program to check if a given integer is even. If the integer is even, print True; otherwise, print False.\n",
    "num=int(input(\"Enter a number:\"))\n",
    "#if the number is even \n",
    "if num%2==0:\n",
    "  print(num,'true')\n",
    "#if the num is not even\n",
    "else:\n",
    "  print(num,'false')\n"
   ]
  },
  {
   "cell_type": "code",
   "execution_count": 11,
   "metadata": {},
   "outputs": [
    {
     "name": "stdout",
     "output_type": "stream",
     "text": [
      "15 true\n"
     ]
    }
   ],
   "source": [
    "#Write a Python program to check if a given integer is divisible by both 3 and 5. If the integer is divisible by both, print True; otherwise, print False.\n",
    "num=int(input(\"Enter a number:\"))\n",
    "#if the number is divisible by both 3 and 5\n",
    "if num%3==0 and num%5==0:\n",
    "    print(num,\"true\")\n",
    "#if the number is not divisible by both 3 and 5\n",
    "else:\n",
    "  print(num,\"false\")"
   ]
  },
  {
   "cell_type": "code",
   "execution_count": 20,
   "metadata": {},
   "outputs": [
    {
     "name": "stdout",
     "output_type": "stream",
     "text": [
      "Orange is a fruit, Banana is a yellow color, Banana is having peel\n"
     ]
    }
   ],
   "source": [
    "#Given a string containing multiple occurrences of the word 'banana', write a Python program to replace only the first occurrence of 'banana' with 'orange' and print the modified string.\n",
    "input_str=\"Banana is a fruit, Banana is a yellow color, Banana is having peel\"\n",
    "modified_str=input_str.replace(\"Banana\",\"Orange\",1)\n",
    "print(modified_str)"
   ]
  },
  {
   "cell_type": "code",
   "execution_count": 32,
   "metadata": {},
   "outputs": [
    {
     "name": "stdout",
     "output_type": "stream",
     "text": [
      "Euclidean distance between the two points: 2.8284271247461903\n"
     ]
    }
   ],
   "source": [
    "#Given two tuples representing coordinates (x, y) of two points, write a Python program to calculate the Euclidean distance between them.\n",
    "import math\n",
    "\n",
    "def euclidean_distance_Of_two_points(point_1, point_2):\n",
    "    p1, q1 = point_1\n",
    "    p2, q2 = point_2\n",
    "    distance = math.sqrt((p2 - p1)**2 + (q2 - q1)**2)\n",
    "    return distance\n",
    "    \n",
    "\n",
    "point_1 = (float(input(\"Enter p coordinate of first point: \")), float(input(\"Enter q coordinate of first point: \")))\n",
    "point_2 = (float(input(\"Enter p coordinate of second point: \")), float(input(\"Enter q coordinate of second point: \")))\n",
    "\n",
    "distance = euclidean_distance_Of_two_points(point_1, point_2)\n",
    "print(\"Euclidean distance between the two points:\", distance)"
   ]
  },
  {
   "cell_type": "code",
   "execution_count": 34,
   "metadata": {},
   "outputs": [
    {
     "name": "stdout",
     "output_type": "stream",
     "text": [
      "{'orange'}\n"
     ]
    }
   ],
   "source": [
    "#Write a Python program that takes two sets as input and returns a new set containing only the elements that are common to both sets.\n",
    "input_set_1={\"apple\",\"banana\",\"orange\"}\n",
    "input_set_2={\"papaya\",\"orange\",\"grapes\"}\n",
    "modified_set_3=input_set_1.intersection(input_set_2)\n",
    "print(modified_set_3)"
   ]
  },
  {
   "cell_type": "code",
   "execution_count": 2,
   "metadata": {},
   "outputs": [
    {
     "name": "stdout",
     "output_type": "stream",
     "text": [
      "Student  Ramana  got highest grade \n"
     ]
    }
   ],
   "source": [
    "# You are given a dictionary containing student names as keys and their corresponding grades as values. Write a Python program to find and print the names of students who scored the highest grade.\n",
    "dict = {\"Naveen\":50, \"Chaitanya\":60, \"Ramana\":95}\n",
    "\n",
    "#find maximum marks gained by the top_student using key value pair\n",
    "top_student= max(dict, key=dict.get)\n",
    "\n",
    "\n",
    "print(\"Student \",top_student,\" got highest grade \")"
   ]
  },
  {
   "cell_type": "code",
   "execution_count": 3,
   "metadata": {},
   "outputs": [
    {
     "name": "stdout",
     "output_type": "stream",
     "text": [
      "10  is positive\n"
     ]
    }
   ],
   "source": [
    "# Write a Python program that takes an integer input from the user and prints whether it is positive, negative, or zero.\n",
    "num = int(input(\"Enter any integer  : \"))\n",
    "# Num is above value 0\n",
    "if num>0:\n",
    "    print(num,\" is positive\")\n",
    "# Num is below value 0\n",
    "elif num<0:\n",
    "    print(num,\" is negative\")\n",
    "# Num is 0   \n",
    "else:\n",
    "    print(\"Entered integer is zero\")"
   ]
  },
  {
   "cell_type": "code",
   "execution_count": 13,
   "metadata": {},
   "outputs": [
    {
     "name": "stdout",
     "output_type": "stream",
     "text": [
      "Factorial: 3628800\n"
     ]
    }
   ],
   "source": [
    "#Write a Python program to calculate the factorial of a given number using a while loop.\n",
    "num = 10\n",
    "fact = 1\n",
    "\n",
    "while num > 0:\n",
    "    fact = fact * num\n",
    "    num = num - 1\n",
    "\n",
    "print(\"Factorial:\", fact)"
   ]
  },
  {
   "cell_type": "code",
   "execution_count": 8,
   "metadata": {},
   "outputs": [
    {
     "name": "stdout",
     "output_type": "stream",
     "text": [
      "[1, 2, 3, 4, 5, 6]\n",
      "1.0\n",
      "4.0\n",
      "9.0\n",
      "16.0\n",
      "25.0\n",
      "36.0\n"
     ]
    }
   ],
   "source": [
    "#Write a Python program that takes a list of numbers as input and prints the square of each number using a for loop.\n",
    "import math \n",
    "list=[1,2,3,4,5,6]\n",
    "print(list)\n",
    "for i in list:\n",
    " print(math.pow(i,2))"
   ]
  },
  {
   "cell_type": "code",
   "execution_count": 9,
   "metadata": {},
   "outputs": [
    {
     "name": "stdout",
     "output_type": "stream",
     "text": [
      "300\n"
     ]
    }
   ],
   "source": [
    "#Write a Python function that takes two numbers as input and returns their sum.\n",
    "#Take add_two_num() as function and num1, and num2 as values \n",
    "def add_two_num(num1,num2):\n",
    "    return num1+num2\n",
    "sum=add_two_num(100,200)\n",
    "print(sum)\n",
    "\n"
   ]
  },
  {
   "cell_type": "code",
   "execution_count": 12,
   "metadata": {},
   "outputs": [
    {
     "name": "stdout",
     "output_type": "stream",
     "text": [
      "Maximum height of student: 200\n",
      "Minimum height of student: 80\n"
     ]
    }
   ],
   "source": [
    "#Given a tuple containing the heights of students, write a Python program to find and print the maximum and minimum height.\n",
    "# Sample tuple containing heights of students\n",
    "Student_heights = (200, 180, 160, 140, 120, 100,80)\n",
    "\n",
    "# Find and print the maximum and minimum heights\n",
    "print(\"Maximum height of student:\", max(Student_heights))\n",
    "print(\"Minimum height of student:\", min(Student_heights))"
   ]
  },
  {
   "cell_type": "code",
   "execution_count": 14,
   "metadata": {},
   "outputs": [
    {
     "name": "stdout",
     "output_type": "stream",
     "text": [
      "set_2 is a subset of set_1\n"
     ]
    }
   ],
   "source": [
    "#Write a Python program to check if a given set is a subset of another set.\n",
    "# Define the two sets of values\n",
    "set_1 = {10,8,6,4,2,1}\n",
    "set_2 = {1,10,2}\n",
    "\n",
    "# Check if set_2 is a subset of set_1\n",
    "if set_2 <= set_1:\n",
    "    print(\"set_2 is a subset of set_1\")\n",
    "# Check if set_1 is a subset of set_2\n",
    "else:\n",
    "    print(\"set_2 is not a subset of set_1\")"
   ]
  },
  {
   "cell_type": "code",
   "execution_count": 18,
   "metadata": {},
   "outputs": [
    {
     "name": "stdout",
     "output_type": "stream",
     "text": [
      "Combined Inventory: {'infinix': 9, 'dell': 5, 'lenovo': 8, 'Zebronics': 3, 'hp': 6, 'samsung': 2, 'apple': 10}\n"
     ]
    }
   ],
   "source": [
    "#You are given two dictionaries representing the inventory of two stores. Write a Python program to merge the inventories and print the combined inventory.\n",
    "# Define the inventories of two stores\n",
    "store1_inventory = {'infinix':9, 'dell': 5, 'lenovo': 8}\n",
    "store2_inventory = {'Zebronics': 3, 'hp': 6, 'samsung': 2,'apple': 10}\n",
    "\n",
    "# Merge the inventories\n",
    "combined_inventory = {**store1_inventory, **store2_inventory}\n",
    "\n",
    "# Print the combined inventory\n",
    "print(\"Combined Inventory:\", combined_inventory)"
   ]
  }
 ],
 "metadata": {
  "kernelspec": {
   "display_name": "Python 3",
   "language": "python",
   "name": "python3"
  },
  "language_info": {
   "codemirror_mode": {
    "name": "ipython",
    "version": 3
   },
   "file_extension": ".py",
   "mimetype": "text/x-python",
   "name": "python",
   "nbconvert_exporter": "python",
   "pygments_lexer": "ipython3",
   "version": "3.12.2"
  }
 },
 "nbformat": 4,
 "nbformat_minor": 2
}
