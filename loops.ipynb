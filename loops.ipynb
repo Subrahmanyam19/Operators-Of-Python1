{
 "cells": [
  {
   "cell_type": "code",
   "execution_count": 2,
   "metadata": {},
   "outputs": [
    {
     "name": "stdout",
     "output_type": "stream",
     "text": [
      "7890 c is the biggest number\n"
     ]
    }
   ],
   "source": [
    "#Conditional statements \n",
    "\n",
    "#1)if\n",
    "\n",
    "# To Fing Biggest number among three numbers \n",
    "\n",
    "a=int(input(\"Enter a value:\"))\n",
    "b=int(input(\"Enter b value:\"))\n",
    "c=int(input(\"Enter c value:\"))\n",
    "if a>b and a>c:\n",
    "    print(a,\"a is the biggest number\")\n",
    "if b>a and b>c:\n",
    "    print(b,\"b is the biggest number\")\n",
    "if c>a and c>b:\n",
    "    print(c,\"c is the biggest number\") "
   ]
  },
  {
   "cell_type": "code",
   "execution_count": 4,
   "metadata": {},
   "outputs": [
    {
     "name": "stdout",
     "output_type": "stream",
     "text": [
      "Amount is between 200 and 300\n"
     ]
    }
   ],
   "source": [
    "#2)elif\n",
    "\n",
    "#To Find The Amount \n",
    "\n",
    "price=int(input(\"Enter the Price Value:\")) \n",
    "quantity=int(input(\"Enter the Quantity Value:\"))\n",
    "amount = price*quantity\n",
    "\n",
    "if amount > 100:\n",
    "    if amount > 500:\n",
    "      print(\"Amount is greater than 500\")\n",
    "    else:\n",
    "      if amount <= 500 and amount >= 400:\n",
    "        print(\"Amount is between 400 and 500\")\n",
    "      elif amount <= 400 and amount >= 300:\n",
    "        print(\"Amount is between 300 and 400\")\n",
    "      else:\n",
    "        print(\"Amount is between 200 and 300\")\n",
    "elif amount == 100:\n",
    "    print(\"Amount is 100\")\n",
    "else:\n",
    "    print(\"Amount is less than 100\")\n"
   ]
  },
  {
   "cell_type": "code",
   "execution_count": 7,
   "metadata": {},
   "outputs": [
    {
     "name": "stdout",
     "output_type": "stream",
     "text": [
      "You are not elligible for VOTE\n"
     ]
    }
   ],
   "source": [
    "#Nested if\n",
    "\n",
    "#To Find Eligibility for Vote\n",
    "\n",
    "age_eligible=int(input(\"Enter age:-\"))\n",
    "\n",
    "if age_eligible >18:\n",
    "    if age_eligible >=18:\n",
    "        print(\"You are Eligible for VOTE\")\n",
    "    else:\n",
    "        print(\"You must be atleast 18 years old for having VOTE\")\n",
    "        \n",
    "else:\n",
    "    print(\"You are not elligible for VOTE\")"
   ]
  },
  {
   "cell_type": "code",
   "execution_count": 8,
   "metadata": {},
   "outputs": [
    {
     "name": "stdout",
     "output_type": "stream",
     "text": [
      "The List of Natural Numbers from 1 to 10 are\n",
      "1  2  3  4  5  6  7  8  9  10  "
     ]
    }
   ],
   "source": [
    "#Looping Statements \n",
    "\n",
    "# for loop\n",
    "# to print n natural numbers \n",
    "\n",
    "number = int(input(\"Please Enter any Number: \"))\n",
    "\n",
    "print(\"The List of Natural Numbers from 1 to {0} are\".format(number)) \n",
    "\n",
    "for i in range(1, number + 1):\n",
    "    print (i, end = '  ')"
   ]
  },
  {
   "cell_type": "code",
   "execution_count": 10,
   "metadata": {},
   "outputs": [
    {
     "name": "stdout",
     "output_type": "stream",
     "text": [
      "Reverse of number = 12521\n",
      "12521 is a Palindrome\n"
     ]
    }
   ],
   "source": [
    "# while loop\n",
    "\n",
    "number = int(input(\"Please Enter any Value: \"))\n",
    "\n",
    "reverse = 0\n",
    "temp = number\n",
    "\n",
    "while(temp > 0):\n",
    "    Reminder = temp % 10\n",
    "    reverse = (reverse * 10) + Reminder\n",
    "    temp = temp //10\n",
    " \n",
    "print(\"Reverse of number = %d\" %reverse)\n",
    "\n",
    "if(number == reverse):\n",
    "    print(\"%d is a Palindrome\" %number)\n",
    "else:\n",
    "    print(\"%d is Not Palindrome\" %number)"
   ]
  },
  {
   "cell_type": "code",
   "execution_count": 13,
   "metadata": {},
   "outputs": [
    {
     "name": "stdout",
     "output_type": "stream",
     "text": [
      "apple\n",
      "banana\n",
      "banana is there. so loop exit.\n"
     ]
    }
   ],
   "source": [
    "#break statement\n",
    "#break by using for loop\n",
    "fruits = [\"apple\", \"banana\", \"cherry\"]\n",
    "for x in fruits:\n",
    "  print(x) \n",
    "  if x == \"banana\":\n",
    "    print( \"banana is there. so loop exit.\")\n",
    "    break\n"
   ]
  },
  {
   "cell_type": "code",
   "execution_count": 15,
   "metadata": {},
   "outputs": [
    {
     "name": "stdout",
     "output_type": "stream",
     "text": [
      "1\n",
      "2\n",
      "3\n",
      "4\n",
      "5\n",
      "5 is there. so loop exit.\n"
     ]
    }
   ],
   "source": [
    "#break by using while loop\n",
    "\n",
    "i = 1\n",
    "while i < 6:\n",
    "  print(i)\n",
    "  if i == 5:\n",
    "    print(\"5 is there. so loop exit.\")\n",
    "    break\n",
    "  i += 1"
   ]
  },
  {
   "cell_type": "code",
   "execution_count": 20,
   "metadata": {},
   "outputs": [
    {
     "name": "stdout",
     "output_type": "stream",
     "text": [
      "0\n",
      "1\n",
      "2\n",
      "4\n",
      "  3 is there.so we can execute next iteration\n"
     ]
    }
   ],
   "source": [
    "#continue statement\n",
    "#continue by using for loop\n",
    "\n",
    "for i in range(5):\n",
    "    if i == 3:\n",
    "        continue\n",
    "    print(i)\n",
    "print(\"  3 is there.so we can execute next iteration\")"
   ]
  },
  {
   "cell_type": "code",
   "execution_count": 23,
   "metadata": {},
   "outputs": [
    {
     "name": "stdout",
     "output_type": "stream",
     "text": [
      "Hello\n"
     ]
    }
   ],
   "source": [
    "#pass\n",
    "n = 10\n",
    "\n",
    "# use pass inside if statement\n",
    "if n > 30:\n",
    "    \n",
    "    pass\n",
    "\n",
    "print('Hello')"
   ]
  },
  {
   "cell_type": "code",
   "execution_count": 28,
   "metadata": {},
   "outputs": [
    {
     "name": "stdout",
     "output_type": "stream",
     "text": [
      "pomegranate\n",
      "This fruit is not present in our shop.\n"
     ]
    }
   ],
   "source": [
    "#match statement \n",
    "#to find the color of fruit\n",
    "x = input('Enter a fruit name : ')\n",
    "print(x)\n",
    "match x:\n",
    "    case \"apple\":\n",
    "        print(\"Its red in color.\")\n",
    "    case \"banana\":\n",
    "        print(\"Its yellow in color.\")\n",
    "    case \"orange\":\n",
    "        print(\"Its orange in color.\")\n",
    "    case _:\n",
    "        print(\"This fruit is not present in our shop.\")"
   ]
  }
 ],
 "metadata": {
  "kernelspec": {
   "display_name": "Python 3",
   "language": "python",
   "name": "python3"
  },
  "language_info": {
   "codemirror_mode": {
    "name": "ipython",
    "version": 3
   },
   "file_extension": ".py",
   "mimetype": "text/x-python",
   "name": "python",
   "nbconvert_exporter": "python",
   "pygments_lexer": "ipython3",
   "version": "3.12.2"
  }
 },
 "nbformat": 4,
 "nbformat_minor": 2
}
