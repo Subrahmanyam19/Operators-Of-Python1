{
 "cells": [
  {
   "cell_type": "code",
   "execution_count": 23,
   "metadata": {},
   "outputs": [
    {
     "name": "stdout",
     "output_type": "stream",
     "text": [
      "Area of the Rectangle: 30\n",
      "Perimeter of the Rectangle: 26\n"
     ]
    }
   ],
   "source": [
    "#Create a Python class named Rectangle with attributes length and width. Implement methods to calculate the area and perimeter of the rectangle.\n",
    "class Rectangle:\n",
    "    def __init__(self, length, width):\n",
    "        self.length = length\n",
    "        self.width = width\n",
    "    \n",
    "    def find_area(self):\n",
    "        return self.length * self.width\n",
    "    \n",
    "    def find_perimeter(self):\n",
    "        return 2 * (self.length + self.width)\n",
    "\n",
    "# For Example: \n",
    "# Create a Rectangle \n",
    "rectangle = Rectangle(10,3)\n",
    "\n",
    "# Find area\n",
    "area = rectangle.find_area()\n",
    "print(\"Area of the Rectangle:\", area)\n",
    "\n",
    "# Find perimeter\n",
    "perimeter = rectangle.find_perimeter()\n",
    "print(\"Perimeter of the Rectangle:\", perimeter)"
   ]
  },
  {
   "cell_type": "code",
   "execution_count": 16,
   "metadata": {},
   "outputs": [
    {
     "name": "stdout",
     "output_type": "stream",
     "text": [
      "Area Of Circle: 314.1592653589793\n",
      "Circumference Of the Circle: 62.83185307179586\n"
     ]
    }
   ],
   "source": [
    "#Create a Python class Circle with attribute radius. Implement methods to calculate the area and circumference of the circle.\n",
    "import math\n",
    "\n",
    "class Circle:\n",
    "    def __init__(self, radius):\n",
    "        self.radius = radius\n",
    "    \n",
    "    def find_area(self):\n",
    "        return math.pi * (self.radius ** 2)\n",
    "    \n",
    "    def find_circumference(self):\n",
    "        return 2 * math.pi * self.radius\n",
    "\n",
    "# For Example:\n",
    "# Create a Circle \n",
    "circle = Circle(10)\n",
    "\n",
    "# Calculate area\n",
    "area = circle.find_area()\n",
    "print(\"Area Of Circle:\", area)\n",
    "\n",
    "# Calculate circumference\n",
    "circumference = circle.find_circumference()\n",
    "print(\"Circumference Of the Circle:\", circumference)"
   ]
  },
  {
   "cell_type": "code",
   "execution_count": 5,
   "metadata": {},
   "outputs": [
    {
     "name": "stdout",
     "output_type": "stream",
     "text": [
      "Employee Name: Subbu\n",
      "Employee Salary: 20000\n",
      "Employee Designation: Software Developer\n"
     ]
    }
   ],
   "source": [
    "#Create a Python class Employee with attributes name, salary, and designation. Implement a method to display employee details.\n",
    "class Employee:\n",
    "    def __init__(self, name, salary, designation):\n",
    "        self.name = name\n",
    "        self.salary = salary\n",
    "        self.designation = designation\n",
    "    \n",
    "    def display_details(self):\n",
    "        print(\"Employee Name:\", self.name)\n",
    "        print(\"Employee Salary:\", self.salary)\n",
    "        print(\"Employee Designation:\", self.designation)\n",
    "\n",
    "# For Example:\n",
    "# Create an Employee \n",
    "employee = Employee(\"Subbu\", 20000, \"Software Developer\")\n",
    "\n",
    "# Display employee details\n",
    "employee.display_details()"
   ]
  },
  {
   "cell_type": "code",
   "execution_count": 18,
   "metadata": {},
   "outputs": [
    {
     "name": "stdout",
     "output_type": "stream",
     "text": [
      "Deposited Rs.500. Balance Amount: Rs.3000\n",
      "Withdrawn Rs.2000. Remaining balance: Rs.1000\n",
      "Insufficient funds or invalid withdrawal amount.\n"
     ]
    }
   ],
   "source": [
    "#Create a Python class BankAccount with attributes balance. Implement methods to deposit and withdraw money from the account.\n",
    "\n",
    "class BankAccount:\n",
    "    \n",
    "    def __init__(self, balance=0):\n",
    "        self.balance = balance\n",
    "    \n",
    "    def deposit(self, amount):\n",
    "        if amount > 0:\n",
    "            self.balance += amount\n",
    "            print(f\"Deposited Rs.{amount}. Balance Amount: Rs.{self.balance}\")\n",
    "        else:\n",
    "            print(\"Invalid deposit amount. Please deposit a positive amount.\")\n",
    "\n",
    "    def withdraw(self, amount):\n",
    "        if 0 < amount <= self.balance:\n",
    "            self.balance -= amount\n",
    "            print(f\"Withdrawn Rs.{amount}. Remaining balance: Rs.{self.balance}\")\n",
    "        else:\n",
    "            print(\"Insufficient funds or invalid withdrawal amount.\")\n",
    "\n",
    "# For Example:\n",
    "# Create a BankAccount \n",
    "account = BankAccount(2500)\n",
    "\n",
    "# Deposit money\n",
    "account.deposit(500)\n",
    "\n",
    "# Withdraw money\n",
    "account.withdraw(2000)\n",
    "\n",
    "#Trying to Withdraw more amount than remaining balance\n",
    "account.withdraw(1200)"
   ]
  },
  {
   "cell_type": "code",
   "execution_count": 28,
   "metadata": {},
   "outputs": [
    {
     "name": "stdout",
     "output_type": "stream",
     "text": [
      "Subbu   is Eligible for graduation\n",
      "Pavan   is Not eligible for graduation\n"
     ]
    }
   ],
   "source": [
    "#Create a Python class Student with attributes name, age, and grade. Implement a method to determine if a student is eligible for graduation based on their grade (>= 70).\n",
    "\n",
    "class Student:\n",
    "    def __init__(self, name, age, grade):\n",
    "        self.name = name\n",
    "        self.age = age\n",
    "        self.grade = grade\n",
    "    \n",
    "    def eligible_for_graduation(self):\n",
    "        if self.grade >= 70:\n",
    "            return \" is Eligible for graduation\"\n",
    "        else:\n",
    "            return \" is Not eligible for graduation\"\n",
    "\n",
    "# For Example:\n",
    "# Create Two Students \n",
    "student1 = Student(\"Subbu\", 25, 96)\n",
    "student2 = Student(\"Pavan\", 25, 54)\n",
    "\n",
    "# Find if the two students are eligible for graduation\n",
    "Student_1=student1.eligible_for_graduation()\n",
    "Student_2=student2.eligible_for_graduation()\n",
    "print(f\"{student1.name} \",Student_1 )\n",
    "print(f\"{student2.name} \",Student_2)\n"
   ]
  },
  {
   "cell_type": "code",
   "execution_count": 29,
   "metadata": {},
   "outputs": [
    {
     "name": "stdout",
     "output_type": "stream",
     "text": [
      "Make: Toyota\n",
      "Model: Camry\n",
      "Year: 2022\n"
     ]
    }
   ],
   "source": [
    "#Create a Python class Car with attributes make, model, and year. Implement a method to display the car's details.\n",
    "class Car:\n",
    "    def __init__(self, make, model, year):\n",
    "        self.make = make\n",
    "        self.model = model\n",
    "        self.year = year\n",
    "    \n",
    "    def display_details(self):\n",
    "        print(f\"Make: {self.make}\")\n",
    "        print(f\"Model: {self.model}\")\n",
    "        print(f\"Year: {self.year}\")\n",
    "\n",
    "# Example usage:\n",
    "# Create a Car object\n",
    "car = Car(\"Toyota\", \"Camry\", 2022)\n",
    "\n",
    "# Display car details\n",
    "car.display_details()"
   ]
  },
  {
   "cell_type": "code",
   "execution_count": 31,
   "metadata": {},
   "outputs": [
    {
     "name": "stdout",
     "output_type": "stream",
     "text": [
      "The price of 'Rich Dad,Poor Dad' by Robert T.Kiyosaki after a 30% discount is Rs.140.00\n"
     ]
    }
   ],
   "source": [
    "#Create a Python class Book with attributes title, author, and price. Implement a method to discount the book price by a certain percentage.\n",
    "class Book:\n",
    "    def __init__(self, title, author, price):\n",
    "        self.title = title\n",
    "        self.author = author\n",
    "        self.price = price\n",
    "    \n",
    "    def discount_book_price(self, discount_percentage):\n",
    "        if 0 <= discount_percentage <= 100:\n",
    "            self.price -= (self.price * discount_percentage) / 100\n",
    "            print(f\"The price of '{self.title}' by {self.author} after a {discount_percentage}% discount is Rs.{self.price:.2f}\")\n",
    "        else:\n",
    "            print(\"Invalid discount percentage. Please enter a value between 0 and 100.\")\n",
    "\n",
    "# For Example :\n",
    "# Create a Book \n",
    "book = Book(\"Rich Dad,Poor Dad\", \"Robert T.Kiyosaki\", 200.00)\n",
    "\n",
    "# Apply a discount of 30%\n",
    "book.discount_book_price(30)\n",
    "\n"
   ]
  },
  {
   "cell_type": "code",
   "execution_count": 32,
   "metadata": {},
   "outputs": [
    {
     "name": "stdout",
     "output_type": "stream",
     "text": [
      "Bank Name: SBI Bank\n",
      "Location: Amalapuram\n"
     ]
    }
   ],
   "source": [
    "#Create a Python class Bank with attributes name and location. Implement a method to display the bank's details.\n",
    "class Bank:\n",
    "    def __init__(self, name, location):\n",
    "        self.name = name\n",
    "        self.location = location\n",
    "    \n",
    "    def display_details(self):\n",
    "        print(f\"Bank Name: {self.name}\")\n",
    "        print(f\"Location: {self.location}\")\n",
    "\n",
    "# For Example:\n",
    "# Create a Bank \n",
    "bank = Bank(\"SBI Bank\", \"Amalapuram\")\n",
    "\n",
    "# Display bank details\n",
    "bank.display_details()"
   ]
  },
  {
   "cell_type": "code",
   "execution_count": 37,
   "metadata": {},
   "outputs": [
    {
     "name": "stdout",
     "output_type": "stream",
     "text": [
      "Tiger  is Not Puppy\n",
      "Snoopy  is Puppy\n"
     ]
    }
   ],
   "source": [
    "#Create a Python class Dog with attributes name and age. Implement a method to determine if the dog is a puppy (age < 1).\n",
    "class Dog:\n",
    "    def __init__(self, name, age):\n",
    "        self.name = name\n",
    "        self.age = age\n",
    "    \n",
    "    def is_puppy(self):\n",
    "         if self.age < 1:\n",
    "            return \"is Puppy\"\n",
    "         else:\n",
    "            return \"is Not Puppy\"\n",
    "\n",
    "# For Example:\n",
    "# Create a Dog \n",
    "dog1 = Dog(\"Tiger\", 2)\n",
    "dog2 = Dog(\"Snoopy\", 0.5)\n",
    "\n",
    "# Determine if the dogs are puppies\n",
    "dog_1=dog1.is_puppy()\n",
    "dog_2=dog2.is_puppy()\n",
    "print(f\"{dog1.name} \", dog_1)\n",
    "print(f\"{dog2.name} \", dog_2)"
   ]
  },
  {
   "cell_type": "code",
   "execution_count": 46,
   "metadata": {},
   "outputs": [
    {
     "name": "stdout",
     "output_type": "stream",
     "text": [
      "Area of Triangle: 31.5\n",
      "Area of Square: 25\n"
     ]
    }
   ],
   "source": [
    "#Create a Python class Shape with an abstract method area(). Implement subclasses Triangle and Square with their own implementations of the area() method.\n",
    "from abc import ABC, abstractmethod\n",
    "\n",
    "class Shape(ABC):\n",
    "    @abstractmethod\n",
    "    def area(self):\n",
    "        pass\n",
    "\n",
    "class Triangle(Shape):\n",
    "    def __init__(self, base, height):\n",
    "        self.base = base\n",
    "        self.height = height\n",
    "\n",
    "    def area(self):\n",
    "        return 0.5 * self.base * self.height\n",
    "\n",
    "class Square(Shape):\n",
    "    def __init__(self, side):\n",
    "        self.side = side\n",
    "\n",
    "    def area(self):\n",
    "        return self.side * self.side\n",
    "\n",
    "# For Example :\n",
    "#Create Triangle :\n",
    "triangle = Triangle(7, 9)\n",
    "#Create Square :\n",
    "square = Square(5)\n",
    "\n",
    "print(\"Area of Triangle:\", triangle.area())\n",
    "print(\"Area of Square:\", square.area())"
   ]
  }
 ],
 "metadata": {
  "kernelspec": {
   "display_name": "Python 3",
   "language": "python",
   "name": "python3"
  },
  "language_info": {
   "codemirror_mode": {
    "name": "ipython",
    "version": 3
   },
   "file_extension": ".py",
   "mimetype": "text/x-python",
   "name": "python",
   "nbconvert_exporter": "python",
   "pygments_lexer": "ipython3",
   "version": "3.12.2"
  }
 },
 "nbformat": 4,
 "nbformat_minor": 2
}
