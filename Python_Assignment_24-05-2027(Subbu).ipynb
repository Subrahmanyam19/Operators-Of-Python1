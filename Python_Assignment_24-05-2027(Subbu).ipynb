{
 "cells": [
  {
   "cell_type": "code",
   "execution_count": 2,
   "metadata": {},
   "outputs": [
    {
     "name": "stdout",
     "output_type": "stream",
     "text": [
      "Value of x before calling update_x(): 5\n",
      "Value of x after calling update_x(): 10\n"
     ]
    }
   ],
   "source": [
    "# Define a global variable x with value 5. Write a Python function update_x() that tries to modify the global variable x to 10. Print the value of x before and after calling the function.\n",
    "x = 5\n",
    "\n",
    "def update_x():\n",
    "    global x\n",
    "    x = 10\n",
    "\n",
    "print(\"Value of x before calling update_x():\", x)\n",
    "update_x()\n",
    "print(\"Value of x after calling update_x():\", x)"
   ]
  },
  {
   "cell_type": "code",
   "execution_count": 81,
   "metadata": {},
   "outputs": [
    {
     "name": "stdout",
     "output_type": "stream",
     "text": [
      "Addition of 9 and 8 is: 17\n",
      "Multiplication of 8 and 9 is: 72\n"
     ]
    }
   ],
   "source": [
    "#Create a Python module named calculator.py with functions add(a, b) and multiply(a, b).Import this module into another Python script and use these functions to add and multiply two numbers.\n",
    "\n",
    "#Import this module into another Python script and use these functions to add and multiply two numbers.\n",
    "import calculator\n",
    "\n",
    "addition_result = calculator.add(9, 8)\n",
    "print(\"Addition of 9 and 8 is:\", addition_result)\n",
    "\n",
    "multiplication_result = calculator.multiply(8, 9)\n",
    "print(\"Multiplication of 8 and 9 is:\", multiplication_result)"
   ]
  },
  {
   "cell_type": "code",
   "execution_count": 11,
   "metadata": {},
   "outputs": [
    {
     "name": "stdout",
     "output_type": "stream",
     "text": [
      "No.of days in between :  31 days, 0:00:00\n"
     ]
    }
   ],
   "source": [
    "#Write a Python function to find the number of days between two given dates.\n",
    "\n",
    "from datetime import date\n",
    "\n",
    "start_date = date(2024, 5, 17)\n",
    "\n",
    "end_date = date(2024, 6, 17)\n",
    "\n",
    "days= end_date - start_date\n",
    "\n",
    "print(\"No.of days in between : \",days)"
   ]
  },
  {
   "cell_type": "code",
   "execution_count": 13,
   "metadata": {},
   "outputs": [
    {
     "name": "stdout",
     "output_type": "stream",
     "text": [
      "Factorial of  4  :  24\n"
     ]
    }
   ],
   "source": [
    "#Write a Python function to calculate the factorial of a given number n.\n",
    "import math\n",
    "\n",
    "n = 4\n",
    "fact_Of_Num = math.factorial(n)\n",
    "\n",
    "print(\"Factorial of \",n,\" : \",fact_Of_Num)"
   ]
  },
  {
   "cell_type": "code",
   "execution_count": 5,
   "metadata": {},
   "outputs": [
    {
     "name": "stdout",
     "output_type": "stream",
     "text": [
      "{\"Company_Name\": \"AIT\", \"Employee_Name\": \"Subbu\", \"Salary\": \"20000\", \"Location\": \"KPHB\"}\n",
      "<class 'str'>\n",
      "{'Company_Name': 'AIT', 'Employee_Name': 'Subbu', 'Salary': '20000', 'Location': 'KPHB'}\n",
      "<class 'dict'>\n"
     ]
    }
   ],
   "source": [
    "#Given a JSON string representing a dictionary, write a Python function to convert it into a Python dictionary object.\n",
    "import json\n",
    "\n",
    "string_data = {\n",
    "         \"Company_Name\" : \"AIT\",\n",
    "         \"Employee_Name\" : \"Subbu\",\n",
    "         \"Salary\" : \"20000\",\n",
    "         \"Location\" : \"KPHB\"  \n",
    "        }\n",
    "\n",
    "json_data = json.dumps(string_data)\n",
    "print(json_data)\n",
    "print(type(json_data))\n",
    "\n",
    "\n",
    "dictionary = json.loads(json_data)\n",
    "print(dictionary)\n",
    "print(type(dictionary))"
   ]
  },
  {
   "cell_type": "code",
   "execution_count": 13,
   "metadata": {},
   "outputs": [
    {
     "name": "stdout",
     "output_type": "stream",
     "text": [
      "All the emails in the text_data : \n",
      "kssubrahmanyam35@gmail.com\n",
      "subrahmanyamks9951@gmail.com\n",
      "satyasubrahmanyam.k@arnocit.com\n"
     ]
    }
   ],
   "source": [
    "#Write a Python program to extract all email addresses from a given text using regular expressions.\n",
    "import re\n",
    "\n",
    "pattern = r'\\b[A-Za-z0-9._%+-]+@[A-Za-z0-9.-]+\\.[A-Z|a-z]{2,3}\\b'\n",
    "\n",
    "text_data =  '''My personal gmail id - kssubrahmanyam35@gmail.com, my another gmail id - subrahmanyamks9951@gmail.com and my mail id \n",
    "           at work for work - satyasubrahmanyam.k@arnocit.com'''\n",
    "\n",
    "extracted_emails = re.findall(pattern, text_data)\n",
    "\n",
    "print(\"All the emails in the text_data : \")\n",
    "\n",
    "for all_emails in extracted_emails :\n",
    "    print(all_emails)"
   ]
  },
  {
   "cell_type": "code",
   "execution_count": 58,
   "metadata": {},
   "outputs": [
    {
     "name": "stdout",
     "output_type": "stream",
     "text": [
      "5\n",
      "10\n"
     ]
    }
   ],
   "source": [
    "#Explain the difference between local and global variables in Python with an example.\n",
    "\"\"\"Variables are classified into Global variables and Local variables based on their scope. The main difference between Global and local variables is that global variables\n",
    "can be accessed globally(that means anywhere),in the entire program, whereas local variables can be accessed only Locally(that means within the function or method or\n",
    "block) in which they are defined.\"\"\"\n",
    "#For Example:\n",
    "x = 5 #global Variable\n",
    "\n",
    "def Variables():\n",
    "    y = 10 #Local Variable\n",
    "    print(y)\n",
    "print(x)\n",
    "Variables()"
   ]
  },
  {
   "cell_type": "code",
   "execution_count": 60,
   "metadata": {},
   "outputs": [
    {
     "name": "stdout",
     "output_type": "stream",
     "text": [
      "2.0\n"
     ]
    }
   ],
   "source": [
    "#What is a Python module? Give an example of how to import and use a module.\n",
    "#module:\n",
    "\"\"\" In Python,a module is nothing but a file consisting of Python code. It can define functions, classes, and variables, and can also include runnable code. \n",
    "    Any Python file can be referenced as a module. A file containing Python code and it lookslike filename.py \"\"\"\n",
    "\"\"\" We have to use the functionality present in any module, you have to import it into your current program. You need to use the import keyword along with \n",
    "the desired module name. When interpreter comes across an import statement, it imports the module to your current program. You can use the functions inside a module by\n",
    "using a dot(.) operator along with the module name. First, let's see how to use the standard library modules. In the example below,math module is imported into the \n",
    "program so that you can use sqrt() function defined in it.\"\"\"\n",
    "#For Example:\n",
    "import math             \n",
    "num = 4\n",
    "print(math.sqrt(num))"
   ]
  },
  {
   "cell_type": "code",
   "execution_count": 80,
   "metadata": {},
   "outputs": [
    {
     "name": "stdout",
     "output_type": "stream",
     "text": [
      " Date and Time of Today:  27-05-2024 12:19:18\n"
     ]
    }
   ],
   "source": [
    "#Write a Python function to get the current date and time.\n",
    "\n",
    "import datetime\n",
    "\n",
    "current_datetime = datetime.datetime.now()\n",
    "format_date_time = current_datetime.strftime('%d-%m-%Y %H:%M:%S')\n",
    "\n",
    "print(\" Date and Time of Today: \",format_date_time)"
   ]
  },
  {
   "cell_type": "code",
   "execution_count": 79,
   "metadata": {},
   "outputs": [
    {
     "name": "stdout",
     "output_type": "stream",
     "text": [
      "GCD of 230 and 440 is: 10\n"
     ]
    }
   ],
   "source": [
    "#Write a Python function to calculate the greatest common divisor (GCD) of two numbers.\n",
    "import math\n",
    "\n",
    "def calculate_gcd(num_1, num_2):\n",
    "    return math.gcd(num_1, num_2)\n",
    "\n",
    "num_1 = int(input(\"Enter The Value Of num_1:\"))\n",
    "num_2 = int(input(\"Enter The Value Of num_2:\"))\n",
    "\n",
    "gcd_result = calculate_gcd(num_1, num_2)\n",
    "\n",
    "print(\"GCD of\", num_1, \"and\", num_2, \"is:\", gcd_result)"
   ]
  },
  {
   "cell_type": "markdown",
   "metadata": {},
   "source": []
  }
 ],
 "metadata": {
  "kernelspec": {
   "display_name": "Python 3",
   "language": "python",
   "name": "python3"
  },
  "language_info": {
   "codemirror_mode": {
    "name": "ipython",
    "version": 3
   },
   "file_extension": ".py",
   "mimetype": "text/x-python",
   "name": "python",
   "nbconvert_exporter": "python",
   "pygments_lexer": "ipython3",
   "version": "3.12.2"
  }
 },
 "nbformat": 4,
 "nbformat_minor": 2
}
