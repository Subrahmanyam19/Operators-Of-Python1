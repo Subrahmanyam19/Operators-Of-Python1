{
  "cells": [
    {
      "cell_type": "markdown",
      "metadata": {
        "id": "9_siXIRQje9m"
      },
      "source": [
        "1.Data Types: Name five different data types in Python and provide an example of each."
      ]
    },
    {
      "cell_type": "code",
      "execution_count": 6,
      "metadata": {},
      "outputs": [
        {
          "name": "stdout",
          "output_type": "stream",
          "text": [
            "10\n",
            "<class 'int'>\n",
            "10.5\n",
            "<class 'float'>\n",
            "Subbu\n",
            "<class 'str'>\n",
            "(5+1j)\n",
            "<class 'complex'>\n",
            "False\n",
            "<class 'bool'>\n"
          ]
        }
      ],
      "source": [
        "#)intger \n",
        "#ii)float\n",
        "#iii)string\n",
        "#iv)complex\n",
        "#v)boolean\n",
        "# example of integer datatype \n",
        "x=10\n",
        "print(x)\n",
        "print(type(x))\n",
        "\n",
        "#example of float datatype\n",
        "x=10.5\n",
        "print(x)\n",
        "print(type(x))\n",
        "\n",
        "#example of string datatype\n",
        "x=\"Subbu\"\n",
        "print(x)\n",
        "print(type(x))\n",
        "\n",
        "#example of complex\n",
        "x=5+1j\n",
        "print(x)\n",
        "print(type(x))\n",
        "\n",
        "#example of boolean\n",
        "x=10\n",
        "y=20\n",
        "z=x==y\n",
        "print(z)\n",
        "print(type(z))\n",
        "\n",
        "\n",
        "\n"
      ]
    },
    {
      "cell_type": "markdown",
      "metadata": {
        "id": "nQOdJHwHjkSP"
      },
      "source": [
        "2.Control Flow - Nested if: What is a nested if statement? Provide an example demonstrating nested if-else blocks."
      ]
    },
    {
      "cell_type": "code",
      "execution_count": 5,
      "metadata": {},
      "outputs": [
        {
          "name": "stdout",
          "output_type": "stream",
          "text": [
            "c is bigger than a&b\n"
          ]
        }
      ],
      "source": [
        "#nested if statement is the one of conditional statement is used to check the more than one condition \n",
        "\n",
        "a=int(input(\"Enter the value of a\"))\n",
        "b=int(input(\"Enter the value of b\"))\n",
        "c=int(input(\"Enter the value of c\"))\n",
        "if(a>b) & (a>c):\n",
        "  print(\"a is bigger than b&c\")\n",
        "if(b>a) & (b>c):\n",
        "  print(\"b is bigger than a&c\")\n",
        "if(c>a) & (c>b):\n",
        "  print(\"c is bigger than a&b\")"
      ]
    },
    {
      "cell_type": "markdown",
      "metadata": {
        "id": "LohFxFacjrgX"
      },
      "source": [
        "3.Membership Operators: What are membership operators in Python? Provide an example demonstrating their use"
      ]
    },
    {
      "cell_type": "code",
      "execution_count": 7,
      "metadata": {},
      "outputs": [
        {
          "name": "stdout",
          "output_type": "stream",
          "text": [
            "False\n",
            "False\n",
            "True\n",
            "True\n",
            "True\n"
          ]
        }
      ],
      "source": [
        "# In Python, Two membership operators are there.   1)in  2)not in \n",
        "#example:\n",
        "list1=[123,456,789]\n",
        "list2=[987,654,321]\n",
        "x=list1\n",
        "print(x in list1)\n",
        "print(list1 in list2)\n",
        "\n",
        "#ii)is not\n",
        "print(x  not in list2)\n",
        "print(x  not in list1)\n",
        "print(list1 not in list2)\n"
      ]
    },
    {
      "cell_type": "markdown",
      "metadata": {
        "id": "ugQUjDCdjwwC"
      },
      "source": [
        "4.Loops - for loop: How does a for loop work in Python? Provide an example of iterating through a list using a for loop."
      ]
    },
    {
      "cell_type": "code",
      "execution_count": 12,
      "metadata": {},
      "outputs": [
        {
          "name": "stdout",
          "output_type": "stream",
          "text": [
            "The List of Natural Numbers from 1 to 10 are\n",
            "1  2  3  4  5  6  7  8  9  10  "
          ]
        }
      ],
      "source": [
        "# for loop\n",
        "# to print n natural numbers \n",
        "\n",
        "number = int(input(\"Please Enter any Number: \"))\n",
        "\n",
        "print(\"The List of Natural Numbers from 1 to {0} are\".format(number)) \n",
        "\n",
        "for i in range(1, number + 1):\n",
        "    print (i, end = '  ')"
      ]
    },
    {
      "cell_type": "markdown",
      "metadata": {
        "id": "6hh6ZV1mjyo_"
      },
      "source": [
        "5.Control Flow - match-case statement: What is the match-case statement introduced in Python 3.10, and how does it differ from traditional switch statements?"
      ]
    },
    {
      "cell_type": "code",
      "execution_count": 13,
      "metadata": {},
      "outputs": [
        {
          "name": "stdout",
          "output_type": "stream",
          "text": [
            "pomogranate\n",
            "This fruit is not present in our shop.\n"
          ]
        }
      ],
      "source": [
        "#match statement \n",
        "#to find the color of fruit\n",
        "x = input('Enter a fruit name : ')\n",
        "print(x)\n",
        "match x:\n",
        "    case \"apple\":\n",
        "        print(\"Its red in color.\")\n",
        "    case \"banana\":\n",
        "        print(\"Its yellow in color.\")\n",
        "    case \"orange\":\n",
        "        print(\"Its orange in color.\")\n",
        "    case _:\n",
        "        print(\"This fruit is not present in our shop.\")"
      ]
    },
    {
      "cell_type": "markdown",
      "metadata": {
        "id": "aS918q8Ij5JH"
      },
      "source": [
        "6.Arithmetic Operators: Explain the purpose of arithmetic operators in Python and give examples of their use."
      ]
    },
    {
      "cell_type": "code",
      "execution_count": 9,
      "metadata": {},
      "outputs": [
        {
          "name": "stdout",
          "output_type": "stream",
          "text": [
            "30\n",
            "10\n",
            "200\n",
            "2.0\n",
            "0\n",
            "2\n"
          ]
        }
      ],
      "source": [
        "#Arithmetic Operators are used to perform mathematic operations in pythhon programmin language.\n",
        "#i)addition\n",
        "x=20\n",
        "y=10\n",
        "print(x+y)\n",
        "#ii)Substraction\n",
        "print(x-y)\n",
        "#iii)Multiplication\n",
        "print(x*y)\n",
        "#iv)division\n",
        "print(x/y)\n",
        "#v)modulo\n",
        "print(x%y)\n",
        "#vi)floor division\n",
        "print(x//y)\n"
      ]
    },
    {
      "cell_type": "markdown",
      "metadata": {
        "id": "zPx-7matkfeR"
      },
      "source": [
        "7.Control Flow - Describe the use of if, elif, and else in Python's control flow and provide an example."
      ]
    },
    {
      "cell_type": "code",
      "execution_count": null,
      "metadata": {},
      "outputs": [],
      "source": []
    },
    {
      "cell_type": "markdown",
      "metadata": {
        "id": "2yHXziD8q5qO"
      },
      "source": [
        "9.Variables: Describe the concept of variables in Python, including variable naming rules.Give Examples."
      ]
    },
    {
      "cell_type": "code",
      "execution_count": 10,
      "metadata": {},
      "outputs": [
        {
          "name": "stdout",
          "output_type": "stream",
          "text": [
            "10\n"
          ]
        }
      ],
      "source": [
        "#variables is a named memory location which used to store the values \n",
        "#rules\n",
        "#1) variable name does not having a keyword\n",
        "#2) variable name do not start with number\n",
        "#3) variable name must start with letter\n",
        "#4) variable name can only contain alpha-numeric characters and underscores \n",
        "#5) varible names are case-sensitive(like age,AGE,and Age)\n",
        "#example\n",
        "x=10#x is a variable to store value 10\n",
        "print(x)\n"
      ]
    },
    {
      "cell_type": "markdown",
      "metadata": {
        "id": "022e4cZPrBJ3"
      },
      "source": [
        "10.Bitwise Operators: Explain bitwise operators (AND, XOR) in Python with examples."
      ]
    },
    {
      "cell_type": "code",
      "execution_count": 11,
      "metadata": {},
      "outputs": [
        {
          "name": "stdout",
          "output_type": "stream",
          "text": [
            "1\n",
            "6\n"
          ]
        }
      ],
      "source": [
        "#Bitiwise Operators\n",
        "#Bitwise Operators is the Operator in python programming,it can be performed bit by bit execution.so this is called bitwise operators\n",
        "\n",
        "#i)Bitiwise AND '&'\n",
        "\n",
        "print(5 & 3)\n",
        "\n",
        "#iii)Bitiwise XOR '^'\n",
        "\n",
        "print(5 ^ 3)\n",
        "\n",
        "\n"
      ]
    },
    {
      "cell_type": "markdown",
      "metadata": {
        "id": "ZhG7bZHfrGV-"
      },
      "source": [
        "11.Loop Control - What does the break statement do in Python loops? Give an example."
      ]
    },
    {
      "cell_type": "code",
      "execution_count": null,
      "metadata": {},
      "outputs": [],
      "source": [
        "#break statement\n",
        "#break statement in python is used to break(stop) the execution in an iterative statements.\n",
        "#break by using for loop\n",
        "fruits = [\"apple\", \"banana\", \"cherry\"]\n",
        "for x in fruits:\n",
        "  print(x) \n",
        "  if x == \"banana\":\n",
        "    print( \"banana is there. so loop exit.\")\n",
        "    break"
      ]
    },
    {
      "cell_type": "markdown",
      "metadata": {
        "id": "HOSAHxf0rKsk"
      },
      "source": [
        "12.Assignment Operators: Describe the different types of assignment operators in Python and provide examples of their usage."
      ]
    },
    {
      "cell_type": "code",
      "execution_count": 14,
      "metadata": {},
      "outputs": [
        {
          "name": "stdout",
          "output_type": "stream",
          "text": [
            "100\n",
            "25\n",
            "10\n",
            "30\n",
            "5.0\n",
            "0\n",
            "5\n",
            "8\n",
            "9\n",
            "1\n",
            "7\n",
            "0\n",
            "320\n"
          ]
        }
      ],
      "source": [
        "#2)Assignment Operators \n",
        "#i) '='\n",
        "a=100 \n",
        "print(a)\n",
        "\n",
        "#ii) '+='\n",
        "b=20\n",
        "b+=5#same as b=b+5\n",
        "print(b)\n",
        "\n",
        "#iii) '-='\n",
        "c=15\n",
        "c-=5#same as c=c-5\n",
        "print(c)\n",
        "\n",
        "#iv) '*='\n",
        "d=10\n",
        "d*=3#same as d=d*3\n",
        "print(d)\n",
        "\n",
        "#v) '/='\n",
        "e=25\n",
        "e/=5#same as e=e/5\n",
        "print(e)\n",
        "\n",
        "#vi) '%='\n",
        "f=30\n",
        "f%=3#same as f=f%3\n",
        "print(f)\n",
        "\n",
        "#vii) '//='\n",
        "g=25\n",
        "g//=5#same as g=g//5\n",
        "print(g)\n",
        "\n",
        "#viii) '**='\n",
        "h=2\n",
        "h**=3#same as h=h**3\n",
        "print(h)\n",
        "\n",
        "#ix) '^='\n",
        "i=10\n",
        "i^=3#same as i=i^3\n",
        "print(i)\n",
        "\n",
        "#x) '&='\n",
        "j=5\n",
        "j&=3#same as j=j&3\n",
        "print(j)\n",
        "\n",
        "#xi) '|='\n",
        "k=7\n",
        "k|=3#same as k=k|3\n",
        "print(k)\n",
        "\n",
        "#xii) '>>='\n",
        "l=9\n",
        "l>>=4#same as l=l>>4\n",
        "print(l)\n",
        "\n",
        "#xiii) '<<='\n",
        "m=10\n",
        "m<<=5#same as m<<=5\n",
        "print(m)"
      ]
    },
    {
      "cell_type": "markdown",
      "metadata": {
        "id": "5orrJ6VFrMZZ"
      },
      "source": [
        "13.String Methods: Name three string methods in Python and describe their uses."
      ]
    },
    {
      "cell_type": "code",
      "execution_count": null,
      "metadata": {},
      "outputs": [],
      "source": [
        "#String methods\n",
        "#1)capitalize()  :- it is used to convert the first character into capital letter in the i/p String.\n",
        "#2)startswith()  :- it returns the boolean value true if the i/p string startswith specified value.\n",
        "#3)endswith()    :- it returns the boolean value true if the i/p string endswith specified value.\n",
        "#4)count()       :- it returns the integer value if the specified character occurance in the input string."
      ]
    },
    {
      "cell_type": "markdown",
      "metadata": {
        "id": "rcqvsYa_rWQ1"
      },
      "source": [
        "14.Loop Control - Describe the purpose of the continue statement in Python loops and provide an example of its use."
      ]
    },
    {
      "cell_type": "code",
      "execution_count": 15,
      "metadata": {},
      "outputs": [
        {
          "name": "stdout",
          "output_type": "stream",
          "text": [
            "0\n",
            "1\n",
            "2\n",
            "4\n",
            "  3 is there.so we can execute next iteration\n"
          ]
        }
      ],
      "source": [
        "#continue statement:\n",
        "# continue statement in python is used to continue the next iteration ,after stop the current execution.\n",
        "\n",
        "#continue by using for loop\n",
        "\n",
        "for i in range(5):\n",
        "    if i == 3:\n",
        "        continue\n",
        "    print(i)\n",
        "print(\"  3 is there.so we can execute next iteration\")"
      ]
    },
    {
      "cell_type": "markdown",
      "metadata": {
        "id": "zzO_aJFZrb-p"
      },
      "source": [
        "15.Identity Operators: Describe identity operators in Python and explain when they are used."
      ]
    },
    {
      "cell_type": "code",
      "execution_count": 16,
      "metadata": {},
      "outputs": [
        {
          "name": "stdout",
          "output_type": "stream",
          "text": [
            "True\n",
            "False\n",
            "True\n",
            "False\n",
            "True\n"
          ]
        }
      ],
      "source": [
        "#identity operators in python are is and is not. which are used to compare or check the specified value in the oparations.\n",
        "#ex:#5)Identity Operators\n",
        "\n",
        "#i)is\n",
        "\n",
        "list1=[123,456,789]\n",
        "list2=[987,654,321]\n",
        "x=list1\n",
        "print(x is list1)\n",
        "print(list1 is list2)\n",
        "\n",
        "#ii)is not\n",
        "print(x is not list2)\n",
        "print(x is not list1)\n",
        "print(list1 is not list2)"
      ]
    },
    {
      "cell_type": "code",
      "execution_count": null,
      "metadata": {},
      "outputs": [],
      "source": []
    }
  ],
  "metadata": {
    "colab": {
      "provenance": []
    },
    "kernelspec": {
      "display_name": "Python 3",
      "name": "python3"
    },
    "language_info": {
      "codemirror_mode": {
        "name": "ipython",
        "version": 3
      },
      "file_extension": ".py",
      "mimetype": "text/x-python",
      "name": "python",
      "nbconvert_exporter": "python",
      "pygments_lexer": "ipython3",
      "version": "3.12.2"
    }
  },
  "nbformat": 4,
  "nbformat_minor": 0
}
