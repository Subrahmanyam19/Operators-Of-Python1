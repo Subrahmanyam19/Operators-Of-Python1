{
 "cells": [
  {
   "cell_type": "code",
   "execution_count": 1,
   "metadata": {},
   "outputs": [
    {
     "name": "stdout",
     "output_type": "stream",
     "text": [
      "x value is : 954\n",
      "<class 'int'>\n"
     ]
    }
   ],
   "source": [
    "#Data Types \n",
    "\n",
    "# Integer\n",
    "x=954\n",
    "print(\"x value is :\",x)\n",
    "print(type(x))"
   ]
  },
  {
   "cell_type": "code",
   "execution_count": 2,
   "metadata": {},
   "outputs": [
    {
     "name": "stdout",
     "output_type": "stream",
     "text": [
      "x value is : 50.54\n",
      "<class 'float'>\n"
     ]
    }
   ],
   "source": [
    "# Float\n",
    "x=50.54\n",
    "print(\"x value is :\",x)\n",
    "print(type(x))"
   ]
  },
  {
   "cell_type": "code",
   "execution_count": 3,
   "metadata": {},
   "outputs": [
    {
     "name": "stdout",
     "output_type": "stream",
     "text": [
      "x value is : 1547j\n",
      "<class 'complex'>\n"
     ]
    }
   ],
   "source": [
    "#Complex\n",
    "x=1547j\n",
    "print(\"x value is :\",x)\n",
    "print(type(x))"
   ]
  },
  {
   "cell_type": "code",
   "execution_count": 4,
   "metadata": {},
   "outputs": [
    {
     "name": "stdout",
     "output_type": "stream",
     "text": [
      "False\n",
      "<class 'bool'>\n"
     ]
    }
   ],
   "source": [
    "#Boolean\n",
    "x=24\n",
    "y=50\n",
    "z=x==y\n",
    "print(z)\n",
    "print(type(z))"
   ]
  },
  {
   "cell_type": "code",
   "execution_count": 6,
   "metadata": {},
   "outputs": [
    {
     "name": "stdout",
     "output_type": "stream",
     "text": [
      "Subrahmanyam\n",
      "<class 'str'>\n",
      "Length :- 12\n",
      "Upper_case :- SUBRAHMANYAM\n",
      "Lower_case :- subrahmanyam\n"
     ]
    }
   ],
   "source": [
    "#String\n",
    "name=\"Subrahmanyam\"\n",
    "print(name)\n",
    "print(type(name))\n",
    "print(\"Length :-\",len(name))\n",
    "print(\"Upper_case :-\",name.upper())\n",
    "print(\"Lower_case :-\",name.lower())\n"
   ]
  },
  {
   "cell_type": "code",
   "execution_count": 9,
   "metadata": {},
   "outputs": [
    {
     "name": "stdout",
     "output_type": "stream",
     "text": [
      "Visual studio code\n",
      "2\n",
      "2\n",
      "14\n",
      "False\n",
      "False\n",
      "False\n",
      "False\n",
      "True\n",
      "visual studio bode\n",
      "visual studio code\n",
      "False\n",
      "False\n",
      "['visual', 'studio', 'code']\n"
     ]
    }
   ],
   "source": [
    "#String Operations\n",
    "x=\"visual studio code\"\n",
    "print(x.capitalize())#Capitalize the First char in string\n",
    "print(x.count('o'))#Count the specified character in string\n",
    "print(x.index('s'))#Get the Index number of specified character\n",
    "print(x.find('c'))#Find index of the specified character\n",
    "print(x.isalnum())#Check if all the characters in string is alphabets or numbers \n",
    "print(x.isalpha())#Check if all the characters in string is alphabets\n",
    "print(x.isdecimal())#it returns bool value TRUE if i/p string contains all decimal characters, else it returns false\n",
    "print(x.isupper())#it returns TRUE if all the characters in string are UPPER CASE ,else return false\n",
    "print(x.islower())#it returns TRUE if all the characters in string are lower case ,else return false\n",
    "print(x.replace('c','b'))#used to replace a character in the i/p string with another character\n",
    "print(x.strip())#used to remove the extra whitespaces \n",
    "print(x.startswith('w'))#determines whether i/p string begins with that mentioned character,returns TRUE or FALSE\n",
    "print(x.endswith('s'))#determines whether i/p string ends with that mentioned character,returns TRUE or FALSE\n",
    "print(x.split())#used to split the bigger string into smaller strings\n",
    "\n"
   ]
  },
  {
   "cell_type": "code",
   "execution_count": 13,
   "metadata": {},
   "outputs": [
    {
     "name": "stdout",
     "output_type": "stream",
     "text": [
      "5\n",
      "6\n",
      "7\n",
      "8\n",
      "9\n",
      "10\n",
      "11\n",
      "12\n",
      "13\n",
      "14\n",
      "15\n",
      "16\n",
      "17\n",
      "18\n",
      "19\n",
      "20\n"
     ]
    }
   ],
   "source": [
    "#Range \n",
    "#printing a natural number from 5 to 20 \n",
    "range(5,21)\n",
    "for i in range(5,21):\n",
    "   print(i)"
   ]
  },
  {
   "cell_type": "code",
   "execution_count": 14,
   "metadata": {},
   "outputs": [
    {
     "name": "stdout",
     "output_type": "stream",
     "text": [
      "Slicing :- Python is ha\n",
      "having built in types\n",
      "Python is\n",
      "Python is having built in types\n",
      "P \n",
      "sepyt ni tliub gnivah si nohtyP\n"
     ]
    }
   ],
   "source": [
    "#String Slicing\n",
    "# to get the particular range of characters\n",
    "string=\"Python is having built in types\"\n",
    "print(\"Slicing :-\",string[0:12])#slicing is done from 0 index to 12th index\n",
    "print(string[10:])#we get whole string from 10th index\n",
    "print(string[:9])#we get the output from 0 to 9th index\n",
    "print(string[ : ])# we get the whole string\n",
    "print(string[0:10:6])#we get the output from 0 index to 10th index and skips 6th index\n",
    "print(string[: :-1])# we get the reversed string"
   ]
  }
 ],
 "metadata": {
  "kernelspec": {
   "display_name": "Python 3",
   "language": "python",
   "name": "python3"
  },
  "language_info": {
   "codemirror_mode": {
    "name": "ipython",
    "version": 3
   },
   "file_extension": ".py",
   "mimetype": "text/x-python",
   "name": "python",
   "nbconvert_exporter": "python",
   "pygments_lexer": "ipython3",
   "version": "3.12.2"
  }
 },
 "nbformat": 4,
 "nbformat_minor": 2
}
