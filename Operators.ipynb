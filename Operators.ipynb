{
 "cells": [
  {
   "cell_type": "code",
   "execution_count": 3,
   "metadata": {},
   "outputs": [
    {
     "name": "stdout",
     "output_type": "stream",
     "text": [
      "Addition of x + y= 150\n",
      "Substraction of x - y= 50\n",
      "Multiplication of x * y= 5000\n",
      "Division of x / y= 2.0\n",
      "Modulus of x % y= 0\n",
      "Floor Division of x // y= 2\n",
      "Exponentiation of x ** y= 10000000000000000000000000000000000000000000000000000000000000000000000000000000000000000000000000000\n"
     ]
    }
   ],
   "source": [
    "#Python Operators\n",
    "# 1) Arithmetic Operators \n",
    "x=100\n",
    "y=50\n",
    "\n",
    "#i) Addition '+'\n",
    "print(\"Addition of x + y=\",x+y)\n",
    "\n",
    "#ii) Substraction '-'\n",
    "print(\"Substraction of x - y=\",x-y)\n",
    "\n",
    "#iii) Multiplication '*'\n",
    "print(\"Multiplication of x * y=\",x*y)\n",
    "\n",
    "#iv) Division '/'\n",
    "print(\"Division of x / y=\",x/y)\n",
    "\n",
    "#v) Modulus '%'\n",
    "print(\"Modulus of x % y=\",x%y)\n",
    "\n",
    "#vi) Floor Division '//'\n",
    "print(\"Floor Division of x // y=\",x//y)\n",
    "\n",
    "#vii) Exponentiation '**'\n",
    "print(\"Exponentiation of x ** y=\",x**y)\n",
    "\n"
   ]
  },
  {
   "cell_type": "code",
   "execution_count": 10,
   "metadata": {},
   "outputs": [
    {
     "name": "stdout",
     "output_type": "stream",
     "text": [
      "100\n",
      "25\n",
      "10\n",
      "30\n",
      "5.0\n",
      "0\n",
      "5\n",
      "8\n",
      "9\n",
      "1\n",
      "7\n",
      "0\n",
      "320\n"
     ]
    }
   ],
   "source": [
    "#2)Assignment Operators \n",
    "#i) '='\n",
    "a=100 \n",
    "print(a)\n",
    "\n",
    "#ii) '+='\n",
    "b=20\n",
    "b+=5#same as b=b+5\n",
    "print(b)\n",
    "\n",
    "#iii) '-='\n",
    "c=15\n",
    "c-=5#same as c=c-5\n",
    "print(c)\n",
    "\n",
    "#iv) '*='\n",
    "d=10\n",
    "d*=3#same as d=d*3\n",
    "print(d)\n",
    "\n",
    "#v) '/='\n",
    "e=25\n",
    "e/=5#same as e=e/5\n",
    "print(e)\n",
    "\n",
    "#vi) '%='\n",
    "f=30\n",
    "f%=3#same as f=f%3\n",
    "print(f)\n",
    "\n",
    "#vii) '//='\n",
    "g=25\n",
    "g//=5#same as g=g//5\n",
    "print(g)\n",
    "\n",
    "#viii) '**='\n",
    "h=2\n",
    "h**=3#same as h=h**3\n",
    "print(h)\n",
    "\n",
    "#ix) '^='\n",
    "i=10\n",
    "i^=3#same as i=i^3\n",
    "print(i)\n",
    "\n",
    "#x) '&='\n",
    "j=5\n",
    "j&=3#same as j=j&3\n",
    "print(j)\n",
    "\n",
    "#xi) '|='\n",
    "k=7\n",
    "k|=3#same as k=k|3\n",
    "print(k)\n",
    "\n",
    "#xii) '>>='\n",
    "l=9\n",
    "l>>=4#same as l=l>>4\n",
    "print(l)\n",
    "\n",
    "#xiii) '<<='\n",
    "m=10\n",
    "m<<=5#same as m<<=5\n",
    "print(m)"
   ]
  },
  {
   "cell_type": "code",
   "execution_count": 12,
   "metadata": {},
   "outputs": [
    {
     "name": "stdout",
     "output_type": "stream",
     "text": [
      "False\n",
      "True\n",
      "False\n",
      "True\n",
      "False\n",
      "True\n"
     ]
    }
   ],
   "source": [
    "#3)Comparison Operators \n",
    "x=150\n",
    "y=250\n",
    "\n",
    "#i)Equal '=='\n",
    "print(x==y)\n",
    "\n",
    "#ii) Not equal '!='\n",
    "print(x!=y)\n",
    "\n",
    "#iii) Greater Than '>'\n",
    "print(x>y)\n",
    "\n",
    "#iv) Less Than '<'\n",
    "print(x<y)\n",
    "\n",
    "#v) Greater Than or equal to '>='\n",
    "print(x>=y)\n",
    "\n",
    "#vii) Less Than or Equal to '<='\n",
    "print(x<=y)"
   ]
  },
  {
   "cell_type": "code",
   "execution_count": 13,
   "metadata": {},
   "outputs": [
    {
     "name": "stdout",
     "output_type": "stream",
     "text": [
      "True\n",
      "True\n",
      "False\n"
     ]
    }
   ],
   "source": [
    "#4) Logical Operators \n",
    "x=20\n",
    "print(x>10 and x>5) #logical and\n",
    "\n",
    "print(x>10 or x>5) #logical or\n",
    " \n",
    "print(not(x>10 and x>5)) #logical not"
   ]
  },
  {
   "cell_type": "code",
   "execution_count": 15,
   "metadata": {},
   "outputs": [
    {
     "name": "stdout",
     "output_type": "stream",
     "text": [
      "True\n",
      "False\n",
      "True\n",
      "True\n",
      "False\n"
     ]
    }
   ],
   "source": [
    "#5)Identity Operators\n",
    "\n",
    "#i)is\n",
    "\n",
    "list1=[123,456,789]\n",
    "list2=[987,654,321]\n",
    "x=list1\n",
    "print(x is list1)\n",
    "print(list1 is list2)\n",
    "\n",
    "#ii)is not\n",
    "print(x is not list2)\n",
    "print(x is not list1)\n",
    "print(list1 is not list2)"
   ]
  },
  {
   "cell_type": "code",
   "execution_count": 18,
   "metadata": {},
   "outputs": [
    {
     "name": "stdout",
     "output_type": "stream",
     "text": [
      "False\n",
      "False\n",
      "True\n",
      "True\n",
      "True\n",
      "False\n"
     ]
    }
   ],
   "source": [
    "#6)Membership Operators\n",
    "\n",
    "#i)in\n",
    "\n",
    "print(x in list1) \n",
    "\n",
    "print(x in list2)#it returns false because we don't have x value in list2\n",
    "\n",
    "print(789 in list1)\n",
    "\n",
    "#ii)not in\n",
    "\n",
    "print(x not in list1)\n",
    "\n",
    "print(x not in list2)\n",
    "\n",
    "print(789 not in list1)"
   ]
  },
  {
   "cell_type": "code",
   "execution_count": 19,
   "metadata": {},
   "outputs": [
    {
     "name": "stdout",
     "output_type": "stream",
     "text": [
      "1\n",
      "7\n",
      "6\n",
      "-6\n",
      "40\n",
      "0\n"
     ]
    }
   ],
   "source": [
    "#7)Bitiwise Operators\n",
    "\n",
    "#i)Bitiwise AND '&'\n",
    "\n",
    "print(5 & 3)\n",
    "\n",
    "#ii)Bitiwise OR '|'\n",
    "\n",
    "print(5 | 3)\n",
    "\n",
    "#iii)Bitiwise XOR '^'\n",
    "\n",
    "print(5 ^ 3)\n",
    "\n",
    "#iv)Bitiwise NOT '~'\n",
    "\n",
    "print(~5)\n",
    "\n",
    "#v)Left shift '<<'\n",
    "\n",
    "print(5 << 3)\n",
    "\n",
    "#vi)Right shift '>>'\n",
    "\n",
    "print(5 >> 3)"
   ]
  }
 ],
 "metadata": {
  "kernelspec": {
   "display_name": "Python 3",
   "language": "python",
   "name": "python3"
  },
  "language_info": {
   "codemirror_mode": {
    "name": "ipython",
    "version": 3
   },
   "file_extension": ".py",
   "mimetype": "text/x-python",
   "name": "python",
   "nbconvert_exporter": "python",
   "pygments_lexer": "ipython3",
   "version": "3.12.2"
  }
 },
 "nbformat": 4,
 "nbformat_minor": 2
}
